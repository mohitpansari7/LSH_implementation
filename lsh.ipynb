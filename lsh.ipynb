{
 "cells": [
  {
   "cell_type": "code",
   "execution_count": 219,
   "metadata": {},
   "outputs": [],
   "source": [
    "import pandas as pd\n"
   ]
  },
  {
   "cell_type": "code",
   "execution_count": 220,
   "metadata": {},
   "outputs": [],
   "source": [
    "train_data = pd.read_csv('BBC News Train.csv')\n",
    "test_data = pd.read_csv('BBC News Test.csv')"
   ]
  },
  {
   "cell_type": "code",
   "execution_count": 221,
   "metadata": {},
   "outputs": [
    {
     "data": {
      "text/html": [
       "<div>\n",
       "<style scoped>\n",
       "    .dataframe tbody tr th:only-of-type {\n",
       "        vertical-align: middle;\n",
       "    }\n",
       "\n",
       "    .dataframe tbody tr th {\n",
       "        vertical-align: top;\n",
       "    }\n",
       "\n",
       "    .dataframe thead th {\n",
       "        text-align: right;\n",
       "    }\n",
       "</style>\n",
       "<table border=\"1\" class=\"dataframe\">\n",
       "  <thead>\n",
       "    <tr style=\"text-align: right;\">\n",
       "      <th></th>\n",
       "      <th>ArticleId</th>\n",
       "      <th>Text</th>\n",
       "      <th>Category</th>\n",
       "    </tr>\n",
       "  </thead>\n",
       "  <tbody>\n",
       "    <tr>\n",
       "      <th>0</th>\n",
       "      <td>1833</td>\n",
       "      <td>worldcom ex-boss launches defence lawyers defe...</td>\n",
       "      <td>business</td>\n",
       "    </tr>\n",
       "    <tr>\n",
       "      <th>1</th>\n",
       "      <td>154</td>\n",
       "      <td>german business confidence slides german busin...</td>\n",
       "      <td>business</td>\n",
       "    </tr>\n",
       "    <tr>\n",
       "      <th>2</th>\n",
       "      <td>1101</td>\n",
       "      <td>bbc poll indicates economic gloom citizens in ...</td>\n",
       "      <td>business</td>\n",
       "    </tr>\n",
       "    <tr>\n",
       "      <th>3</th>\n",
       "      <td>1976</td>\n",
       "      <td>lifestyle  governs mobile choice  faster  bett...</td>\n",
       "      <td>tech</td>\n",
       "    </tr>\n",
       "    <tr>\n",
       "      <th>4</th>\n",
       "      <td>917</td>\n",
       "      <td>enron bosses in $168m payout eighteen former e...</td>\n",
       "      <td>business</td>\n",
       "    </tr>\n",
       "  </tbody>\n",
       "</table>\n",
       "</div>"
      ],
      "text/plain": [
       "   ArticleId                                               Text  Category\n",
       "0       1833  worldcom ex-boss launches defence lawyers defe...  business\n",
       "1        154  german business confidence slides german busin...  business\n",
       "2       1101  bbc poll indicates economic gloom citizens in ...  business\n",
       "3       1976  lifestyle  governs mobile choice  faster  bett...      tech\n",
       "4        917  enron bosses in $168m payout eighteen former e...  business"
      ]
     },
     "execution_count": 221,
     "metadata": {},
     "output_type": "execute_result"
    }
   ],
   "source": [
    "train_data.head()"
   ]
  },
  {
   "cell_type": "code",
   "execution_count": 222,
   "metadata": {},
   "outputs": [
    {
     "name": "stdout",
     "output_type": "stream",
     "text": [
      "<class 'pandas.core.frame.DataFrame'>\n",
      "RangeIndex: 1490 entries, 0 to 1489\n",
      "Data columns (total 3 columns):\n",
      " #   Column     Non-Null Count  Dtype \n",
      "---  ------     --------------  ----- \n",
      " 0   ArticleId  1490 non-null   int64 \n",
      " 1   Text       1490 non-null   object\n",
      " 2   Category   1490 non-null   object\n",
      "dtypes: int64(1), object(2)\n",
      "memory usage: 35.1+ KB\n",
      "None\n"
     ]
    },
    {
     "data": {
      "text/plain": [
       "Category\n",
       "sport            346\n",
       "business         336\n",
       "politics         274\n",
       "entertainment    273\n",
       "tech             261\n",
       "Name: count, dtype: int64"
      ]
     },
     "execution_count": 222,
     "metadata": {},
     "output_type": "execute_result"
    }
   ],
   "source": [
    "#print(train_data.head)\n",
    "print(train_data.info())\n",
    "train_data['Category'].value_counts()"
   ]
  },
  {
   "cell_type": "code",
   "execution_count": 223,
   "metadata": {},
   "outputs": [
    {
     "data": {
      "text/html": [
       "<div>\n",
       "<style scoped>\n",
       "    .dataframe tbody tr th:only-of-type {\n",
       "        vertical-align: middle;\n",
       "    }\n",
       "\n",
       "    .dataframe tbody tr th {\n",
       "        vertical-align: top;\n",
       "    }\n",
       "\n",
       "    .dataframe thead th {\n",
       "        text-align: right;\n",
       "    }\n",
       "</style>\n",
       "<table border=\"1\" class=\"dataframe\">\n",
       "  <thead>\n",
       "    <tr style=\"text-align: right;\">\n",
       "      <th></th>\n",
       "      <th>ArticleId</th>\n",
       "      <th>Text</th>\n",
       "    </tr>\n",
       "  </thead>\n",
       "  <tbody>\n",
       "    <tr>\n",
       "      <th>0</th>\n",
       "      <td>1018</td>\n",
       "      <td>qpr keeper day heads for preston queens park r...</td>\n",
       "    </tr>\n",
       "    <tr>\n",
       "      <th>1</th>\n",
       "      <td>1319</td>\n",
       "      <td>software watching while you work software that...</td>\n",
       "    </tr>\n",
       "    <tr>\n",
       "      <th>2</th>\n",
       "      <td>1138</td>\n",
       "      <td>d arcy injury adds to ireland woe gordon d arc...</td>\n",
       "    </tr>\n",
       "    <tr>\n",
       "      <th>3</th>\n",
       "      <td>459</td>\n",
       "      <td>india s reliance family feud heats up the ongo...</td>\n",
       "    </tr>\n",
       "    <tr>\n",
       "      <th>4</th>\n",
       "      <td>1020</td>\n",
       "      <td>boro suffer morrison injury blow middlesbrough...</td>\n",
       "    </tr>\n",
       "  </tbody>\n",
       "</table>\n",
       "</div>"
      ],
      "text/plain": [
       "   ArticleId                                               Text\n",
       "0       1018  qpr keeper day heads for preston queens park r...\n",
       "1       1319  software watching while you work software that...\n",
       "2       1138  d arcy injury adds to ireland woe gordon d arc...\n",
       "3        459  india s reliance family feud heats up the ongo...\n",
       "4       1020  boro suffer morrison injury blow middlesbrough..."
      ]
     },
     "execution_count": 223,
     "metadata": {},
     "output_type": "execute_result"
    }
   ],
   "source": [
    "test_data.head()"
   ]
  },
  {
   "cell_type": "code",
   "execution_count": 224,
   "metadata": {},
   "outputs": [
    {
     "name": "stdout",
     "output_type": "stream",
     "text": [
      "<class 'pandas.core.frame.DataFrame'>\n",
      "RangeIndex: 735 entries, 0 to 734\n",
      "Data columns (total 2 columns):\n",
      " #   Column     Non-Null Count  Dtype \n",
      "---  ------     --------------  ----- \n",
      " 0   ArticleId  735 non-null    int64 \n",
      " 1   Text       735 non-null    object\n",
      "dtypes: int64(1), object(1)\n",
      "memory usage: 11.6+ KB\n",
      "None\n"
     ]
    }
   ],
   "source": [
    "print(test_data.info())"
   ]
  },
  {
   "cell_type": "code",
   "execution_count": 225,
   "metadata": {},
   "outputs": [],
   "source": [
    "import numpy as np\n",
    "from sklearn.feature_extraction.text import TfidfVectorizer\n",
    "from tqdm import tqdm\n",
    "from numpy import dot\n",
    "from numpy.linalg import norm\n",
    "from collections import Counter\n"
   ]
  },
  {
   "cell_type": "code",
   "execution_count": 226,
   "metadata": {},
   "outputs": [
    {
     "name": "stdout",
     "output_type": "stream",
     "text": [
      "business\n"
     ]
    }
   ],
   "source": [
    "print(train_data.Category.values[0])"
   ]
  },
  {
   "cell_type": "code",
   "execution_count": 232,
   "metadata": {},
   "outputs": [],
   "source": [
    "def predictLabels(test_data):\n",
    "    np.random.seed(0)\n",
    "\n",
    "    ## Constants\n",
    "    MAX_FEATURES = 4000\n",
    "    NGRAM_MIN = 2\n",
    "    NGRAM_MAX = 3\n",
    "    MIN_DF = 10\n",
    "    K_NEIGH = 6\n",
    "    NUM_HYPER_PLANES = 5\n",
    "\n",
    "    ##train tfIdf vector\n",
    "    vectorizer = TfidfVectorizer(ngram_range=(NGRAM_MIN, NGRAM_MAX), max_features=MAX_FEATURES, min_df=MIN_DF)\n",
    "    train_tfIdfVector = vectorizer.fit_transform(train_data.Text)\n",
    "\n",
    "    #print(train_tfIdfVector.shape)\n",
    "\n",
    "    ##random hyper planes\n",
    "    random_hyper_planes = []\n",
    "    for i in range(NUM_HYPER_PLANES):\n",
    "        random_hyper_planes.append(np.random.normal(0, 1, train_tfIdfVector.shape[1]))\n",
    "\n",
    "    ## bins to store the points with same hash value\n",
    "    bins = dict()\n",
    "    for i in range(2**NUM_HYPER_PLANES):\n",
    "        bins[i] = []\n",
    "    \n",
    "    ##placing train data points inside bins\n",
    "    ## looping through each data point and finding on which direction it belongs to\n",
    "    for i in tqdm(range(train_tfIdfVector.shape[0])):\n",
    "        bin_cal = 0\n",
    "        for j in range(len(random_hyper_planes)):\n",
    "            if dot(random_hyper_planes[j], train_tfIdfVector[i][0].toarray()[0]) > 0.0:\n",
    "                bin_cal += 2**j\n",
    "        bins[bin_cal].append(((train_tfIdfVector[i], train_data.Category.values[i])))\n",
    "\n",
    "    ## test data tf idf vectors\n",
    "    test_tfIdfVector = vectorizer.transform(test_data.Text)\n",
    "    \n",
    "    ## now for each test data point we have to find which bin it belongs to and its k-NN using cos-sim\n",
    "    pred = []\n",
    "\n",
    "    for i in tqdm(range(test_tfIdfVector.shape[0])):\n",
    "        bin_cal = 0\n",
    "        \n",
    "        for j in range(len(random_hyper_planes)):\n",
    "            if dot(random_hyper_planes[j], test_tfIdfVector[i][0].toarray()[0]) > 0.0:\n",
    "                bin_cal += 2**j\n",
    "        \n",
    "        ## getting all neighbours for this bucket from train set\n",
    "        neighbours = list(bins[bin_cal])\n",
    "        \n",
    "        ## now finding cos-sim of all the train points present in this bin....\n",
    "        cosine_similarity = []\n",
    "        for j in range(len(neighbours)):\n",
    "            cos_sim = dot(neighbours[j][0].toarray()[0], test_tfIdfVector[i][0].toarray()[0])/(norm(neighbours[j][0].toarray()[0])*norm(test_tfIdfVector[i][0].toarray()[0]))\n",
    "            cosine_similarity.append(cos_sim)\n",
    "\n",
    "        ##noew taking the nearest k neighbours in the same bin\n",
    "        nearest_k = np.argsort(cosine_similarity)[::-1][:K_NEIGH]\n",
    "        #print(nearest_k)\n",
    "        #pred.append(neighbours[k][1] for k in nearest_k)\n",
    "        for k in nearest_k:\n",
    "            pred.append(neighbours[k][1])\n",
    "        #print(pred)\n",
    "\n",
    "    #print(len(pred))\n",
    "\n",
    "    class_labels = sorted(list(set(train_data.Category.values)))\n",
    "    #print(class_labels)\n",
    "\n",
    "    ##finding the number of votes each class label has got for each test_data point\n",
    "    test_pred_count = []\n",
    "\n",
    "    #print(pred)\n",
    "    temp = []\n",
    "    ans = []\n",
    "    for item in pred:\n",
    "        temp.append(item)\n",
    "        if len(temp) == K_NEIGH:\n",
    "            ans.append(temp)\n",
    "            temp = []\n",
    "\n",
    "    #print(ans)\n",
    "\n",
    "    class_label_pred = []\n",
    "\n",
    "    for eachList in ans:\n",
    "        counts = Counter(eachList)\n",
    "        majority_class = max(counts, key=counts.get)\n",
    "        class_label_pred.append(majority_class)\n",
    "        \n",
    "        \n",
    "\n",
    "\n",
    "    # for i in range(len(pred)):\n",
    "    #     result = []\n",
    "    #     for j in class_labels:\n",
    "    #         result.append(pred[i].count(j))\n",
    "    #     test_pred_count.append(result)\n",
    "\n",
    "    # #print(test_pred_count)\n",
    "    # ##finding max-votes each class label has got for each data point\n",
    "    # test_pred_count = np.array(test_pred_count)\n",
    "    # max_vals = np.max(test_pred_count, axis = 1)\n",
    "\n",
    "    # ##finding max voted class label\n",
    "    # print(test_pred_count)\n",
    "    # print(max_vals)\n",
    "    # class_label_pred = []\n",
    "    # for x in range(len(test_data)):\n",
    "    #     print(x)\n",
    "    #     max_voted_class_arr = []\n",
    "    #     max_voted_class_label = \"\"\n",
    "    #     for i in range(len(test_pred_count)):\n",
    "            \n",
    "    #         for j in range(len(class_labels)):\n",
    "    #             if test_pred_count[i][j] == max_vals[i]:\n",
    "    #                 max_voted_class_arr.append(class_labels[j])\n",
    "    #     print(max_voted_class_arr)\n",
    "    #     class_label_pred.append(max_voted_class_label)\n",
    "    \n",
    "    # print(len(class_label_pred))\n",
    "    return class_label_pred    \n",
    "    "
   ]
  },
  {
   "cell_type": "code",
   "execution_count": 233,
   "metadata": {},
   "outputs": [
    {
     "name": "stderr",
     "output_type": "stream",
     "text": [
      "100%|██████████| 1490/1490 [00:00<00:00, 4481.14it/s]\n",
      "100%|██████████| 735/735 [00:04<00:00, 170.71it/s]\n"
     ]
    }
   ],
   "source": [
    "predicted_lables = predictLabels(test_data)"
   ]
  },
  {
   "cell_type": "code",
   "execution_count": 234,
   "metadata": {},
   "outputs": [],
   "source": [
    "result_dict = dict()\n",
    "result_dict = {\n",
    "    'ArticleId' : test_data.ArticleId,\n",
    "    'Category' : predicted_lables\n",
    "}\n"
   ]
  },
  {
   "cell_type": "code",
   "execution_count": 235,
   "metadata": {},
   "outputs": [],
   "source": [
    "output_df = pd.DataFrame(result_dict)"
   ]
  },
  {
   "cell_type": "code",
   "execution_count": 236,
   "metadata": {},
   "outputs": [],
   "source": [
    "output_df.to_csv('BBC News Sample Solution.csv', index=False)"
   ]
  }
 ],
 "metadata": {
  "kernelspec": {
   "display_name": "Python 3",
   "language": "python",
   "name": "python3"
  },
  "language_info": {
   "codemirror_mode": {
    "name": "ipython",
    "version": 3
   },
   "file_extension": ".py",
   "mimetype": "text/x-python",
   "name": "python",
   "nbconvert_exporter": "python",
   "pygments_lexer": "ipython3",
   "version": "3.12.1"
  }
 },
 "nbformat": 4,
 "nbformat_minor": 2
}
